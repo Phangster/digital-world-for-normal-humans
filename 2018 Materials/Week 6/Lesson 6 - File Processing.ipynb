{
 "cells": [
  {
   "cell_type": "markdown",
   "metadata": {},
   "source": [
    "# File processing \n",
    "\n",
    "   "
   ]
  },
  {
   "cell_type": "markdown",
   "metadata": {},
   "source": [
    "## Recall\n",
    "\n",
    "### without any arguments: <br> the strip() method removes white space and newlines at the start/end<br> the split() method splits the string on white space and stores them in a list \n",
    "\n",
    "### a string method that modifies the string's contents returns a new object  \n",
    "### ( is the same true for list methods that modifies a list?) "
   ]
  },
  {
   "cell_type": "code",
   "execution_count": null,
   "metadata": {
    "collapsed": true
   },
   "outputs": [],
   "source": [
    "a = '  the forest is young and full of life   \\n'\n",
    "print('START'+a+'END')\n",
    "\n",
    "a = a.strip()  #\n",
    "print('START'+a+'END')\n",
    "\n",
    "my_list = a.split()\n",
    "print(my_list)"
   ]
  },
  {
   "cell_type": "markdown",
   "metadata": {},
   "source": [
    "# Four python file recipes "
   ]
  },
  {
   "cell_type": "markdown",
   "metadata": {},
   "source": [
    "## Using a for-loop \n",
    "### each line is accessed at each iteration "
   ]
  },
  {
   "cell_type": "code",
   "execution_count": null,
   "metadata": {
    "collapsed": true
   },
   "outputs": [],
   "source": [
    "f = open('animes.txt','r')\n",
    "for line in f:\n",
    "    print(line)\n",
    "f.close()"
   ]
  },
  {
   "cell_type": "markdown",
   "metadata": {},
   "source": [
    "## Using the readlines() method \n",
    "### The entire file is stored in a list, one element for each line \n",
    "### Then you can write a loop over the list to do what you like "
   ]
  },
  {
   "cell_type": "code",
   "execution_count": null,
   "metadata": {
    "collapsed": true
   },
   "outputs": [],
   "source": [
    "f = open('animes.txt','r')\n",
    "my_list = f.readlines()\n",
    "print(my_list)\n",
    "f.close()"
   ]
  },
  {
   "cell_type": "markdown",
   "metadata": {},
   "source": [
    "## Using the readline() method + while loop \n",
    "### Every call to readline() accesses the next line "
   ]
  },
  {
   "cell_type": "code",
   "execution_count": null,
   "metadata": {
    "collapsed": true
   },
   "outputs": [],
   "source": [
    "f = open('animes.txt','r')\n",
    "line = f.readline()  #get the loop started \n",
    "while( line ):       #if the line is empty this is false \n",
    "    print(line)\n",
    "    line = f.readline()  #for the next iteration\n",
    "f.close()"
   ]
  },
  {
   "cell_type": "markdown",
   "metadata": {},
   "source": [
    "## Using the read() method \n",
    "### The entire file is read into a single string"
   ]
  },
  {
   "cell_type": "code",
   "execution_count": null,
   "metadata": {
    "collapsed": true
   },
   "outputs": [],
   "source": [
    "f = open('animes.txt','r')\n",
    "the_entire_file = f.read()  \n",
    "print(the_entire_file)\n",
    "f.close()"
   ]
  },
  {
   "cell_type": "markdown",
   "metadata": {},
   "source": [
    "## What to do \n",
    "### Every file you process is unique! \n",
    "### 1. Look at the file \n",
    "### 2. Print out the contents of the list from using readlines()"
   ]
  },
  {
   "cell_type": "markdown",
   "metadata": {},
   "source": [
    "## Example 1 \n",
    "### Read the file and store it in a dictionary with the genre as the key"
   ]
  },
  {
   "cell_type": "code",
   "execution_count": null,
   "metadata": {
    "collapsed": true
   },
   "outputs": [],
   "source": [
    "def read_anime_file(f):\n",
    "\n",
    "    return dd"
   ]
  },
  {
   "cell_type": "code",
   "execution_count": null,
   "metadata": {
    "collapsed": true
   },
   "outputs": [],
   "source": [
    "f = open('animes.txt','r')\n",
    "out = read_anime_file(f)\n",
    "print(out)"
   ]
  }
 ],
 "metadata": {
  "kernelspec": {
   "display_name": "Python 3",
   "language": "python",
   "name": "python3"
  },
  "language_info": {
   "codemirror_mode": {
    "name": "ipython",
    "version": 3
   },
   "file_extension": ".py",
   "mimetype": "text/x-python",
   "name": "python",
   "nbconvert_exporter": "python",
   "pygments_lexer": "ipython3",
   "version": "3.6.2"
  }
 },
 "nbformat": 4,
 "nbformat_minor": 2
}
