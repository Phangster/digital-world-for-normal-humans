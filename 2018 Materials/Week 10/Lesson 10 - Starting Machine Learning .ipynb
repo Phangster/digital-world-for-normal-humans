{
 "cells": [
  {
   "cell_type": "markdown",
   "metadata": {},
   "source": [
    "## Understanding your data \n",
    "\n",
    "<ul>\n",
    "  <li>Check for validity</li>\n",
    "  <li>Understand distribution</li>\n",
    "  <li>Look out for trends and correlation</li>\n",
    "</ul>  \n",
    "\n",
    "Plotting your graphs and calculating the five-number summary helps!"
   ]
  },
  {
   "cell_type": "code",
   "execution_count": null,
   "metadata": {
    "collapsed": true
   },
   "outputs": [],
   "source": [
    "import numpy as np\n",
    "import matplotlib.pyplot as plt\n",
    "from matplotlib.colors import ListedColormap\n",
    "from sklearn import neighbors, datasets\n",
    "from sklearn.metrics import confusion_matrix"
   ]
  },
  {
   "cell_type": "markdown",
   "metadata": {},
   "source": [
    "## Commands used in all plots "
   ]
  },
  {
   "cell_type": "code",
   "execution_count": null,
   "metadata": {
    "collapsed": true
   },
   "outputs": [],
   "source": [
    "plt.xlabel('some string on x')\n",
    "plt.ylabel('some string on y')\n",
    "plt.title('some string on title')\n",
    "plt.grid(True)\n",
    "plt.show() # Always must be called "
   ]
  },
  {
   "cell_type": "markdown",
   "metadata": {},
   "source": [
    "## Using numpy arrays simplifies calculations \n",
    "\n",
    "### Here you see how y can be calculated directly"
   ]
  },
  {
   "cell_type": "code",
   "execution_count": null,
   "metadata": {
    "collapsed": true
   },
   "outputs": [],
   "source": [
    "x = np.array( range(-10, 10) )\n",
    "y = x**2 + 2*x + 1"
   ]
  },
  {
   "cell_type": "markdown",
   "metadata": {},
   "source": [
    "## This is how we can plot lines and points on the same graph. \n",
    "\n",
    "### This example also shows how you can display a legend"
   ]
  },
  {
   "cell_type": "code",
   "execution_count": null,
   "metadata": {
    "collapsed": true
   },
   "outputs": [],
   "source": [
    "a = plt.plot(x,y,color='blue')\n",
    "b = plt.plot(x,y,'gx')\n",
    "'''a, b are a list of references to line objects'''\n",
    "plt.legend([a[0],b[0]],['my line','my points'])\n",
    "plt.show()"
   ]
  },
  {
   "cell_type": "markdown",
   "metadata": {},
   "source": [
    "## However, the plot command is not suitable for our dataset"
   ]
  },
  {
   "cell_type": "code",
   "execution_count": null,
   "metadata": {
    "collapsed": true
   },
   "outputs": [],
   "source": [
    "bunchobject = datasets.load_breast_cancer()\n",
    "data = bunchobject.data\n",
    "x = data[:,0]\n",
    "y = data[:,2]\n",
    "a = plt.plot(x,y,color='green')\n",
    "plt.show()"
   ]
  },
  {
   "cell_type": "markdown",
   "metadata": {},
   "source": [
    "## That is why we use the scatter command instead"
   ]
  },
  {
   "cell_type": "code",
   "execution_count": null,
   "metadata": {
    "collapsed": true
   },
   "outputs": [],
   "source": [
    "bunchobject = datasets.load_breast_cancer()\n",
    "data = bunchobject.data\n",
    "x = data[:,0]\n",
    "y = data[:,2]\n",
    "a = plt.scatter(x,y,color='green')\n",
    "plt.show()"
   ]
  },
  {
   "cell_type": "markdown",
   "metadata": {},
   "source": [
    "## Other commands you need for Question 1 \n",
    "\n",
    "### Please read the documentation or watch the videos provided\n",
    "\n",
    "<ul>\n",
    "<li> plt.boxplot</li>\n",
    "<li> plt.hist</li>\n",
    "<li> plt.scatter</li>\n",
    "<li> plt.barchart</li>"
   ]
  },
  {
   "cell_type": "code",
   "execution_count": null,
   "metadata": {
    "collapsed": true
   },
   "outputs": [],
   "source": []
  },
  {
   "cell_type": "markdown",
   "metadata": {},
   "source": [
    "## Extracting one column from a numpy array gives you a 1D list i.e. a list of n elements. \n",
    "\n",
    "### the shape method gives you the dimensions of the array\n",
    "\n",
    "### If you want a 2D array ( n by 1 array) then use the np.newaxis parameter to add a new dimension. "
   ]
  },
  {
   "cell_type": "code",
   "execution_count": null,
   "metadata": {
    "collapsed": true
   },
   "outputs": [],
   "source": [
    "z1 = np.array( range(10))\n",
    "print('==this is a 1D array ==')\n",
    "print(z1.shape)\n",
    "print(z1)\n",
    "z2 = z1[:,np.newaxis]\n",
    "print('==this is a 2D array ==')\n",
    "print(z2.shape)\n",
    "print(z2)"
   ]
  },
  {
   "cell_type": "markdown",
   "metadata": {},
   "source": [
    "### Similar for the breast cancer dataset "
   ]
  },
  {
   "cell_type": "code",
   "execution_count": null,
   "metadata": {
    "collapsed": true
   },
   "outputs": [],
   "source": [
    "print('==this is a 1D array==')\n",
    "x1 = bunchobject.data[:, 0]\n",
    "print(x1.shape)\n",
    "#print(x1)\n",
    "\n",
    "print('==this is a 2D n by 1 array==')\n",
    "x2 = bunchobject.data[:, np.newaxis, 0]\n",
    "print(x2.shape)\n",
    "#print(x2)\n",
    "\n",
    "print('==this is a 2D 1 by n array==')\n",
    "print('you are not likely to need this')\n",
    "x3 = bunchobject.data[np.newaxis, :, 0]\n",
    "print(x3.shape)\n",
    "#print(x3)\n",
    "\n"
   ]
  }
 ],
 "metadata": {
  "kernelspec": {
   "display_name": "Python 3",
   "language": "python",
   "name": "python3"
  },
  "language_info": {
   "codemirror_mode": {
    "name": "ipython",
    "version": 3
   },
   "file_extension": ".py",
   "mimetype": "text/x-python",
   "name": "python",
   "nbconvert_exporter": "python",
   "pygments_lexer": "ipython3",
   "version": "3.6.3"
  }
 },
 "nbformat": 4,
 "nbformat_minor": 2
}
