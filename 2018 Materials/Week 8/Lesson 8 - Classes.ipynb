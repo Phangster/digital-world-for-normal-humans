{
 "cells": [
  {
   "cell_type": "markdown",
   "metadata": {},
   "source": [
    "## Previously you would ask: <BR> Given a pair of coordinates, how do we calculate the displacement? "
   ]
  },
  {
   "cell_type": "markdown",
   "metadata": {},
   "source": [
    "## Now we would ask: <BR> Given a pair of coordinates, what are some things we can do/calculate? "
   ]
  },
  {
   "cell_type": "markdown",
   "metadata": {},
   "source": [
    "# Anatomy \n",
    "\n",
    "## Initializer/Constructor \n",
    "\n",
    "### this is where you initialize your instance variables  \n",
    "\n",
    "### all python classes ought to start with this method \n",
    "\n",
    "## methods attached to the object\n",
    "\n",
    "### this is where your design comes in\n",
    "\n",
    "## magic methods\n",
    "\n",
    "### comparison methods (recall we could say one list is equal/less than another?) \n",
    "\n",
    "### string conversion methods (recall we could apply the print function directly) "
   ]
  },
  {
   "cell_type": "code",
   "execution_count": null,
   "metadata": {
    "collapsed": true
   },
   "outputs": [],
   "source": [
    "class Coordinate:\n",
    "    \n",
    "    def __init__(self,x = 0, y = 0):\n",
    "        pass\n",
    "    \n",
    "    def magnitude(self):\n",
    "        pass \n",
    "    \n",
    "    def translate(self,dx,dy):\n",
    "        pass\n",
    "    \n",
    "    def __eq__(self, other):\n",
    "        "
   ]
  }
 ],
 "metadata": {
  "kernelspec": {
   "display_name": "Python 3",
   "language": "python",
   "name": "python3"
  },
  "language_info": {
   "codemirror_mode": {
    "name": "ipython",
    "version": 3
   },
   "file_extension": ".py",
   "mimetype": "text/x-python",
   "name": "python",
   "nbconvert_exporter": "python",
   "pygments_lexer": "ipython3",
   "version": "3.6.2"
  }
 },
 "nbformat": 4,
 "nbformat_minor": 2
}
