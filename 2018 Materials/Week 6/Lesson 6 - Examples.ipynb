{
 "cells": [
  {
   "cell_type": "markdown",
   "metadata": {},
   "source": [
    "## Example 1. Read every second letter \n",
    "### Decode the following message by reading every second letter from the zeroth and put it together with the remaining letters. \n",
    "M R E K E A T T M M E I I D N N T I H G E H P T A\n",
    "\n",
    "source: https://sites.google.com/site/codesforscouts/read-every-second-letter "
   ]
  },
  {
   "cell_type": "code",
   "execution_count": 47,
   "metadata": {},
   "outputs": [
    {
     "name": "stdout",
     "output_type": "stream",
     "text": [
      "MREKEATTMMEIIDNNTIHGEHPTA\n",
      "MEETMEINTHEPARKATMIDNIGHT\n"
     ]
    }
   ],
   "source": [
    "code = 'M R E K E A T T M M E I I D N N T I H G E H P T A'\n",
    "newcode = code.replace(' ','')\n",
    "print( newcode)\n",
    "print( newcode[::2] + newcode[1::2])"
   ]
  },
  {
   "cell_type": "markdown",
   "metadata": {},
   "source": [
    "## Example 2 Deleted"
   ]
  },
  {
   "cell_type": "markdown",
   "metadata": {},
   "source": [
    "## Example 3. Caesar Cypher \n",
    "### The following message is known to be coded using a substitution cypher, where the ascii values of the characters have been increased by a positive offset between 1 and 5 to hide the message. Determine the actual message. \n",
    "Kdss|#\\hdu#ri#Grj$"
   ]
  },
  {
   "cell_type": "code",
   "execution_count": 5,
   "metadata": {},
   "outputs": [
    {
     "name": "stdout",
     "output_type": "stream",
     "text": [
      "Happy Year of Dog!\n",
      "False\n"
     ]
    }
   ],
   "source": [
    "code = 'Kdss|#\\hdu#ri#Grj$'\n",
    "offset = 3\n",
    "decoded = ''\n",
    "for i in code:\n",
    "    value = ord(i) - offset \n",
    "    decoded =decoded + chr(value)\n",
    "print(decoded)\n",
    "print( 'a' < 'A') # <-- is  this true or false? "
   ]
  },
  {
   "cell_type": "markdown",
   "metadata": {},
   "source": [
    "## Example 4. convert the following string into a list of integers \n",
    "### The strip() method removes all whitespace before and after the string. \n",
    "If you provide an input then those characters are removed instead. \n",
    "### The split() method divides the string according to whitespaces and returns a list object. \n",
    "If you provide an input, then the string is split according to that character. "
   ]
  },
  {
   "cell_type": "code",
   "execution_count": 48,
   "metadata": {},
   "outputs": [
    {
     "name": "stdout",
     "output_type": "stream",
     "text": [
      " Scores  20  30  95 32\t55 46   \n",
      "END\n",
      "Scores  20  30  95 32\t55 46END\n",
      "['Scores', '20', '30', '95', '32', '55', '46']\n",
      "['Scores', 20, 30, 95, 32, 55, 46]\n"
     ]
    }
   ],
   "source": [
    "scores = ' Scores  20  30  95 32\\t55 46   \\n'\n",
    "print(scores+\"END\")\n",
    "print(scores.strip()+\"END\")\n",
    "my_list = scores.strip().split()\n",
    "print(my_list)\n",
    "for i in range(len(my_list)):\n",
    "    data = my_list[i]\n",
    "    if( data.isalpha()):\n",
    "        continue\n",
    "    if( data.isdigit()):\n",
    "        my_list[i] = int(data)\n",
    "print(my_list)"
   ]
  },
  {
   "cell_type": "markdown",
   "metadata": {},
   "source": [
    "## Example 5 \n",
    "### For languages that use an alphabet, getting a frequency of the letters can help break encrypted messages. \n",
    "### Write a function that takes in a string of text and returns the counts of each letter as a dictionary. "
   ]
  },
  {
   "cell_type": "code",
   "execution_count": 59,
   "metadata": {
    "collapsed": true
   },
   "outputs": [],
   "source": [
    "text = \"\"\"\"This was the real Yorkshire with the clean limestone wall riding the hill's edge and the path cutting brilliant green through the crowding heather. And, walking face on to the scented breeze, I felt the old tingle of wonder at being alone on the wide moorland where nothing stirred and the spreading miles of purple blossom and green turf reached away until it met the hazy blue of the sky.\"\n",
    "\"\"\""
   ]
  },
  {
   "cell_type": "code",
   "execution_count": 62,
   "metadata": {
    "collapsed": true
   },
   "outputs": [],
   "source": [
    "import string \n",
    "def count_letters(mytext):\n",
    "    mytext = mytext.lower()\n",
    "    dd = {}\n",
    "    for i in mytext:\n",
    "        if(not i.isalpha()):\n",
    "            continue\n",
    "        if(i not in dd):\n",
    "            dd[i] = 0\n",
    "        else:\n",
    "            dd[i] += 1\n",
    "    return dd"
   ]
  },
  {
   "cell_type": "code",
   "execution_count": 63,
   "metadata": {},
   "outputs": [
    {
     "name": "stdout",
     "output_type": "stream",
     "text": [
      "{'t': 64, 'h': 50, 'i': 50, 's': 39, 'w': 20, 'a': 49, 'e': 95, 'r': 43, 'l': 39, 'y': 15, 'o': 49, 'k': 4, 'c': 13, 'n': 48, 'm': 20, 'd': 32, 'g': 19, 'p': 8, 'u': 17, 'b': 11, 'f': 23, 'z': 1, 'v': 3, 'x': 0}\n"
     ]
    }
   ],
   "source": [
    "print(count_letters(text))"
   ]
  }
 ],
 "metadata": {
  "kernelspec": {
   "display_name": "Python 3",
   "language": "python",
   "name": "python3"
  },
  "language_info": {
   "codemirror_mode": {
    "name": "ipython",
    "version": 3
   },
   "file_extension": ".py",
   "mimetype": "text/x-python",
   "name": "python",
   "nbconvert_exporter": "python",
   "pygments_lexer": "ipython3",
   "version": "3.6.2"
  }
 },
 "nbformat": 4,
 "nbformat_minor": 2
}
