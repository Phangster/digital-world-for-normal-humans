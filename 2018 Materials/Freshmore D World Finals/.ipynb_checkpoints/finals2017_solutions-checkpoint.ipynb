{
 "cells": [
  {
   "cell_type": "markdown",
   "metadata": {},
   "source": [
    "## DW Finals 2017 solutions <br>"
   ]
  },
  {
   "cell_type": "markdown",
   "metadata": {},
   "source": [
    "### These solutions are student compiled and might contain errors (especially for qn 1) <br> Credit goes to Team Anonymous on Piazza"
   ]
  },
  {
   "cell_type": "code",
   "execution_count": null,
   "metadata": {
    "collapsed": true
   },
   "outputs": [],
   "source": [
    "class MySMClass(sm.SM):\n",
    "startState=('forward',0.0)\n",
    "def getNextValues(self, state, inp):\n",
    "    state, orig_angle = state\n",
    "    angle = util.fixAnglePlusMinusPi(inp.odometry.theta)\n",
    "    front_dist = inp.sonars[2]\n",
    "    eps = 0.01\n",
    "    if state=='forward':\n",
    "        if front_dist <=0.5:\n",
    "            next_state = ('rotate', angle)\n",
    "            forward = 0.0\n",
    "            rotation = 0.1\n",
    "        else:\n",
    "            next_state = (Q1, Q2)\n",
    "            forward = 0.1\n",
    "            rotation = 0.0\n",
    "    elif state == 'rotate':\n",
    "        if not util.nearAngle(abs(angle-orig_angle), math.pi/2.0,eps):\n",
    "            next_state = (Q3, Q4)\n",
    "            forward = 0.0\n",
    "            rotation = 0.1\n",
    "        else:\n",
    "            next_state = (Q5, Q6)\n",
    "            forward = 0.1\n",
    "            rotation = 0.0\n",
    "    print next_state, forward, rotation\n",
    "    return (next_state, io.Action(fvel = forward, rvel = rotation))"
   ]
  },
  {
   "cell_type": "markdown",
   "metadata": {},
   "source": [
    "### Part A\n",
    "#### Q.1 [10 points]\n",
    "#### One student was not satisfied with his boundary follower program for the mini project. He wanted to rotate exactly 90 degrees when the eBot found a boundary. To do that, he wrote a state machine to test his 90 degrees rotation as shown below. The eBot should move forward until it sees a boundary at around 0.5 m and starts rotating. After it rotates for 90 degrees, it should move forward again."
   ]
  },
  {
   "cell_type": "markdown",
   "metadata": {},
   "source": [
    "##### a) [ 3 points] Specify the values of Q1 to Q6 at lines 14, 19, and 23.\n",
    "##### b) [ 5 points] Draw the state transition diagram when you consider only the first item in the tuple of your state variable. Hint: you can use Δθ to denote abs(angle - orig_angle) in your state diagram.\n",
    "##### c) [ 1 points] Explain the purpose of using util.fixAnglePlusMinusPi(). What problems may be encountered if we do not use this function? Hint: Check libdw.util module documentation.\n",
    "##### d) [ 1 point] Draw one kind of world with its boundary where this state machine will not work."
   ]
  },
  {
   "cell_type": "markdown",
   "metadata": {},
   "source": [
    "**Sample answer 1:** <br>\n",
    "a) Q1: 'forward' Q2: 0.0 Q3: 'rotate' Q4: angle Q5: 'forward' Q6: 0.0<br>\n",
    "b) - awkward stare -<br>\n",
    "c) util.fixAnglePlusMinusPi() returns an equivalent angle between plus and minus pi with a radian input. Without the function, the robot will turn 270 degrees after 4 turns to satisfy abs(270-360) $\\approx$ 90.<br>\n",
    "d) Any world where the boundary cannot be picked up by sonar? Like staying within a tabletop / cliff boundary."
   ]
  },
  {
   "cell_type": "markdown",
   "metadata": {},
   "source": [
    "#### Q.2[10 points]<br>\n",
    "#### My friend Julius-C explained to me this awesome trick to share secret messages. He told me it was super secure back in the day. You just shift each letter of your message according to its order in the alphabet, by a super secret constant factor! So for instance when ciphering \"AB\" with key=3, the result is \"DE\". To decrypt, one just shifts back the same number of positions. I realized this was easy to implement in Python with my DW skills. To test my implementation he sent me an encrypted message for me to decrypt. But something went wrong with my code below :("
   ]
  },
  {
   "cell_type": "code",
   "execution_count": 1,
   "metadata": {},
   "outputs": [
    {
     "ename": "KeyError",
     "evalue": "-1",
     "output_type": "error",
     "traceback": [
      "\u001b[1;31m---------------------------------------------------------------------------\u001b[0m",
      "\u001b[1;31mKeyError\u001b[0m                                  Traceback (most recent call last)",
      "\u001b[1;32m<ipython-input-1-9b6e4968b8bb>\u001b[0m in \u001b[0;36m<module>\u001b[1;34m()\u001b[0m\n\u001b[0;32m     23\u001b[0m \u001b[0mc\u001b[0m \u001b[1;33m=\u001b[0m \u001b[1;34m\"QJEHYRM\"\u001b[0m\u001b[1;33m\u001b[0m\u001b[0m\n\u001b[0;32m     24\u001b[0m \u001b[1;31m#print cipher(m,k)\u001b[0m\u001b[1;33m\u001b[0m\u001b[1;33m\u001b[0m\u001b[0m\n\u001b[1;32m---> 25\u001b[1;33m \u001b[0mprint\u001b[0m \u001b[1;33m(\u001b[0m\u001b[0mdecipher\u001b[0m\u001b[1;33m(\u001b[0m\u001b[0mc\u001b[0m\u001b[1;33m,\u001b[0m\u001b[0mkey\u001b[0m\u001b[1;33m)\u001b[0m\u001b[1;33m)\u001b[0m\u001b[1;33m\u001b[0m\u001b[0m\n\u001b[0m",
      "\u001b[1;32m<ipython-input-1-9b6e4968b8bb>\u001b[0m in \u001b[0;36mdecipher\u001b[1;34m(c, key)\u001b[0m\n\u001b[0;32m     16\u001b[0m     \u001b[1;32mfor\u001b[0m \u001b[0my\u001b[0m \u001b[1;32min\u001b[0m \u001b[0mc\u001b[0m\u001b[1;33m:\u001b[0m\u001b[1;33m\u001b[0m\u001b[0m\n\u001b[0;32m     17\u001b[0m         \u001b[0mx\u001b[0m \u001b[1;33m=\u001b[0m \u001b[0malphabet\u001b[0m\u001b[1;33m[\u001b[0m\u001b[0my\u001b[0m\u001b[1;33m]\u001b[0m \u001b[1;33m-\u001b[0m \u001b[0mkey\u001b[0m \u001b[1;33m%\u001b[0m \u001b[1;36m26\u001b[0m \u001b[1;31m# fix: (alphabet[y] - key) % 26\u001b[0m\u001b[1;33m\u001b[0m\u001b[0m\n\u001b[1;32m---> 18\u001b[1;33m         \u001b[0mm\u001b[0m \u001b[1;33m=\u001b[0m \u001b[0mm\u001b[0m \u001b[1;33m+\u001b[0m \u001b[0minverse\u001b[0m\u001b[1;33m[\u001b[0m\u001b[0mx\u001b[0m\u001b[1;33m]\u001b[0m\u001b[1;33m\u001b[0m\u001b[0m\n\u001b[0m\u001b[0;32m     19\u001b[0m     \u001b[1;32mreturn\u001b[0m \u001b[0mm\u001b[0m\u001b[1;33m\u001b[0m\u001b[0m\n\u001b[0;32m     20\u001b[0m \u001b[1;31m#I'm not sure if this was the key, I forgot!\u001b[0m\u001b[1;33m\u001b[0m\u001b[1;33m\u001b[0m\u001b[0m\n",
      "\u001b[1;31mKeyError\u001b[0m: -1"
     ]
    }
   ],
   "source": [
    "alphabet = {'A':0,'B':1,'C':2,'D':3,'E':4,'F':5,'G':6,'H':7,'I':8,\n",
    "'J':9,'K':10,'L':11,'M':12,'N':13,'O':14,'P':15,'Q':16,'R':17,'S':18,\n",
    "'T':19,'U':20,'V':21,'W':22,'X':23,'Y':24,'Z':25}\n",
    "# the next line is just to create the inverse alphabet dictionary\n",
    "inverse = {v: k for k, v in alphabet.items()}\n",
    "#Encrypting function\n",
    "def cipher(m,key):\n",
    "    c = \"\"\n",
    "    for x in m:\n",
    "        y = alphabet[x] + key % 26 # fix: (alphabet[y] + key) % 26\n",
    "        c = c + inverse[y]\n",
    "    return c\n",
    "#Decrypting function\n",
    "def decipher(c,key):\n",
    "    m = \"\"\n",
    "    for y in c:\n",
    "        x = alphabet[y] - key % 26 # fix: (alphabet[y] - key) % 26\n",
    "        m = m + inverse[x]\n",
    "    return m\n",
    "#I'm not sure if this was the key, I forgot!\n",
    "key = 5\n",
    "#But I'm pretty sure that the secret messages starts with 'D'..\n",
    "c = \"QJEHYRM\"\n",
    "#print cipher(m,k)\n",
    "# print (decipher(c,key))"
   ]
  },
  {
   "cell_type": "markdown",
   "metadata": {},
   "source": [
    "##### a)[5 points] Can you spot and fix the logical error in the implementation? This is the run-time error I get when running the code: \n",
    "line 20, in decipher<br>\n",
    "  m = m + inverse[x]<br>\n",
    "KeyError: -1<br>\n",
    "Note: There are no syntax errors in the code, I checked!\n",
    "##### b)[5 points] I thought the key was 5 but I think I forgot. Can you help me recover the secret key and the secret message? Julius-C told me that the first letter of the secret message was \"D\". Explain your answer."
   ]
  },
  {
   "cell_type": "markdown",
   "metadata": {},
   "source": [
    "** Sample solution:**<br>\n",
    "a) Add parenthesis when performing the modulo operation. Error fixed is commented out. <br>\n",
    "b) Matching fist letter of c: 'Q' of index 16 with letter 'D' of index 3, we can deduce that the secret key is 16 - 3 = 13 to yield the (not so) secret message of 'DWRULEZ'"
   ]
  },
  {
   "cell_type": "markdown",
   "metadata": {},
   "source": [
    "### Part B\n",
    "#### Q.3 [10 points]\n",
    "#### All books published before 2007 were assigned a 10-digit reference number called ISBN (International Standard Book Number). The 10 digits can be denoted as: $d1d2d3d4d5d6d7d8d9d10$. The last digit, d10, is called ‘checksum’, which is calculated from the other nine digits using the following formula:<br> $$ (d1×1+d2×2+d3×3+d4×4+d5×5+d6×6+d7×7+d8×8+d9×9) \\% 11 $$ <br> If the checksum is 10, the last digit is denoted as ‘X’, according to the ISBN convention. Write a function named complete_ISBN that takes the first 9 digits as one string argument, then returns the full 10-digit ISBN number (including leading zeros if any) as a string."
   ]
  },
  {
   "cell_type": "code",
   "execution_count": null,
   "metadata": {
    "collapsed": true
   },
   "outputs": [],
   "source": [
    "def complete_ISBN(string):\n",
    "    integer_list=[]\n",
    "    for i in range(9): # For \"takes fist 9 digits\" requirement\n",
    "        integer_list.append(int(list(string)[i]))   \n",
    "    for index, num in enumerate(integer_list):\n",
    "        integer_list[index] = (index+1) * num # index starts from 0 so we want to multiply with index + 1\n",
    "    d10 = sum(integer_list) % 11    \n",
    "    return string + str(d10) if d10 != 10 else string + 'X' \n",
    "\n",
    "## TEST CASES##\n",
    "print ('Test case 1: input=013601267')\n",
    "print (complete_ISBN('013601267'))\n",
    "print ('Test case 2: input=013031997')\n",
    "print (complete_ISBN('013031997'))\n",
    "print ('Test case 3: input=020139829')\n",
    "print (complete_ISBN('020139829'))"
   ]
  },
  {
   "cell_type": "markdown",
   "metadata": {},
   "source": [
    "### Q.4 [15points] <br> Write a function get_products(inlist, test). The function returns two outputs (as a tuple). The first output is a dictionary d. For each tuple in inlist, the product of the entries is calculated. The products calculated are the keys of the dictionary d. The corresponding values is a list of the tuples that give the product. The second output is a list of tuples from inlist that have test as the product of its entries. If there is no corresponding value, the second output should be a None object. "
   ]
  },
  {
   "cell_type": "code",
   "execution_count": null,
   "metadata": {
    "collapsed": true
   },
   "outputs": [],
   "source": [
    "import numpy as np\n",
    "def get_products(inlist,test):\n",
    "    d ={}\n",
    "    for i in range(len(inlist)):\n",
    "        d.setdefault(np.prod(inlist[i]),[]).append(inlist[i]) # setdefault() is handy for creating dictionary keys with multiple values\n",
    "    return d, d.get(test)  \n",
    "\n",
    "## TEST CASES ##\n",
    "inlist = [(3,5),(2,2),(2,2,3),(12,2),(7,3),(3,7,1)]\n",
    "d,o =get_products(inlist, 15)\n",
    "print (sorted(d.keys()))\n",
    "print (sorted(d.values()))\n",
    "print (o)\n",
    "d,o = get_products(inlist, 21)\n",
    "print (o)\n",
    "d,o = get_products(inlist, 11)\n",
    "print (o)"
   ]
  },
  {
   "cell_type": "markdown",
   "metadata": {},
   "source": [
    "### Q.5 [15points]<br>A fictional language for an upcoming fantasy television show has been invented using the letters of the roman alphabet. Soon, the scriptwriters will have lots of text written for this language, and your task is to build a spell checker program for documents produced in this language. The rules of the written form of this language is as follows. <br>-Each word must have only two letters. <br>-The first letter must beone of the following lower-case consonantletters: k g s t d n h b m r <br>-The second letter must be one of the following lower-case vowel letters: a e i o u <br>-There must be at least one space after the end of each word.  <br> This language does not have upper-case letters or punctuation. This spell-checker can be implemented using a finite state machine. Write a class named SpellCheckSMto implement this spell-checking state machine. SpellCheckSMis a subclass of sm.SM, which is obtained by having from libdw import sm at the start of your code"
   ]
  },
  {
   "cell_type": "code",
   "execution_count": null,
   "metadata": {
    "collapsed": true
   },
   "outputs": [],
   "source": [
    "from libdw import sm\n",
    "consonant = ['k', 'g', 's', 't', 'd', 'n', 'h', 'b', 'm', 'r']\n",
    "vowel = ['a', 'e', 'i', 'o', 'u']\n",
    "class SpellCheckSM(sm.SM):\n",
    "    start_state = 'new word'     \n",
    "    def get_next_values(self, state, inp): # Just follow transition diagram\n",
    "       if state == 'new word':\n",
    "        if inp == ' ':\n",
    "            return ('new word','')\n",
    "        if inp in consonant:\n",
    "            return ('consonant','')\n",
    "        else:\n",
    "            return ('error','')\n",
    "       if state == 'consonant':\n",
    "        if inp == ' ':\n",
    "            return ('new word','error')\n",
    "        if inp in vowel:\n",
    "            return ('vowel','')\n",
    "        else:\n",
    "            return ('error','')\n",
    "       if state == 'vowel':\n",
    "        if inp == ' ':\n",
    "            return ('new word', 'ok')\n",
    "        else:\n",
    "            return ('error','')\n",
    "       if state == 'error':\n",
    "        if inp == ' ':\n",
    "            return ('new word', 'error')\n",
    "        else:\n",
    "            return ('error','')\n",
    "            \n",
    "# TEST CASES #\n",
    "a = SpellCheckSM()\n",
    "print ('test case A')\n",
    "line1 = 'a si tu ne mai me pas je '\n",
    "print (a.transduce(line1))\n",
    "print ('test case B')\n",
    "line2 = 'hi ka ru no de '\n",
    "print (a.transduce(line2))\n",
    "print ('test case C')\n",
    "line3= 'mu '\n",
    "a.transduce(line3,verbose=True)"
   ]
  },
  {
   "cell_type": "markdown",
   "metadata": {},
   "source": [
    "### Q.6 [Total: 25points]<br>A parallelogram is a quadrilateral with two pairs of parallel sides. The opposite sides of a parallelogram are equal and the opposite angles of a parallelogram are equal. A rhombus is a parallelogram in which all four sides are equal. A rectangle is a parallelogram in whichall angles are right angles. A square is a rectangle in which two adjacent sides have equal length.... blah blah.."
   ]
  },
  {
   "cell_type": "code",
   "execution_count": null,
   "metadata": {
    "collapsed": true
   },
   "outputs": [],
   "source": [
    "class Parallelogram(object):\n",
    "    def __init__(self, side1, side2, diagonal):\n",
    "        self.s1 = float(side1)\n",
    "        self.s2 = float(side2)\n",
    "        self.d = float(diagonal)\n",
    "    def __diagonal__(self):\n",
    "        return self.d\n",
    "    def __str__(self):\n",
    "        return \"%.2f\" % (self.d)\n",
    "    def get(self):\n",
    "        return self.d\n",
    "    def set(self,d):\n",
    "        self.d = d if d>0 else 0    \n",
    "    diagonal = property(get,set)\n",
    "    def __call__(self):\n",
    "        return self.s1 + self.s2 > self.d\n",
    "    def calc_area(self):\n",
    "        s = (self.s1 + self.s2 + self.d) /2.\n",
    "        a = 2*(s*(s-self.s1)*(s-self.s2)*(s-self.d))**.5\n",
    "        return round(a,2)\n",
    "class Rhombus(Parallelogram): # subclass containing subclass specific code\n",
    "    def __call__(self):\n",
    "        return True if self.s1 + self.s2 > self.d and self.s1 == self.s2 else False \n",
    "    def calc_area(self):\n",
    "        a = 0.25*self.d*((4*self.s1)**2 - 4*(self.d)**2)**.5\n",
    "        return round(a,2)\n",
    "class Rectangle(Parallelogram):\n",
    "    def __call__(self):\n",
    "        return True if self.s1**2 + self.s2**2 == self.d**2 and abs(self.s1 - self.s2)>0 else False \n",
    "    def calc_area(self):\n",
    "        return round(self.s1*self.s2,2)\n",
    "class Square(Rectangle):\n",
    "    def __call__(self):\n",
    "        return True if abs(self.s1**2 + self.s2**2 - self.d**2)<0.01 and self.s1 == self.s2 else False \n",
    "    def calc_area(self):\n",
    "        return round(self.s1**2,2)\n",
    "    \n",
    "## TEST CASES ##    \n",
    "para = Parallelogram(2,3,4)\n",
    "print (para)\n",
    "para.diagonal = 3\n",
    "print (para)  \n",
    "para.diagonal = -1\n",
    "print (para)\n",
    "para = Parallelogram(3,4,5)\n",
    "print (para())\n",
    "para = Parallelogram(3,4,8)\n",
    "print (para())\n",
    "rect = Rectangle(3,4,6)\n",
    "print (rect())\n",
    "rhom = Rhombus(3,3,2)\n",
    "print (rhom())\n",
    "squr = Square(2,2,3)\n",
    "print (squr())\n",
    "squr = Square(2,2,8**.5)\n",
    "print (squr())\n",
    "para = Parallelogram(3,4,2)\n",
    "print (para.calc_area())\n",
    "para = Parallelogram(5,7,9)\n",
    "print (para.calc_area())\n",
    "rect = Rectangle(3,4,5)\n",
    "print (rect.calc_area())\n",
    "rhom = Rhombus(3,3,4)\n",
    "print (rhom.calc_area())\n",
    "squr=Square(2,2,2.83)\n",
    "print (squr.calc_area())"
   ]
  },
  {
   "cell_type": "markdown",
   "metadata": {},
   "source": [
    "### Q.7 [15points]<br>Learn the art of procrastination. If we can do something later, why do it now? Let us try to write a program to plan the procrastination.Given n tasks due today. The i-th task takes xi units of time and must be finished by time ti. Suppose we can only work on one task at a time, and once we begin a task, we must work until it is finished. What is the latest time that we must start to ensure that all the deadlines are met? Note that timeunits are integer and start from 0... Will type the rest later..."
   ]
  },
  {
   "cell_type": "code",
   "execution_count": null,
   "metadata": {
    "collapsed": true
   },
   "outputs": [],
   "source": [
    "class MyTask(object):\n",
    "    def __init__(self, deadline, duration):\n",
    "        self.deadline = deadline\n",
    "        self.duration = duration\n",
    "    def __str__(self):\n",
    "        return 'T(%d,%d)' %(self.deadline, self.duration)\n",
    "    \n",
    "import numpy as np\n",
    "def procrastination(ls):\n",
    "    ## Compile assignments in a dictionary ##\n",
    "    d = {}\n",
    "    start_times = []\n",
    "    for i in range(len(ls)):\n",
    "        d.setdefault(ls[i].deadline,[]).append(ls[i].duration)   \n",
    "    ## Prepare above dictionary for easy manupilation ##\n",
    "    processed_ls = sorted(list(zip(d.keys(),[np.sum(i) for i in d.values()])),reverse=True)\n",
    "    ## Calculate potential start times ##\n",
    "    while processed_ls:\n",
    "        start_times.append(processed_ls[0][0] - np.sum([i[1] for i in processed_ls]))\n",
    "        processed_ls.pop(0)\n",
    "    ## Satisfy \"Procrastination\" and \"-1\" condition ##    \n",
    "    return np.min(start_times) if np.min(start_times)>= 0 else -1           \n",
    "    \n",
    "## TEST CASES ##\n",
    "assignments = [ MyTask(9,1), MyTask(9,2), MyTask(7,1) ]\n",
    "print (procrastination(assignments))\n",
    "assignments1 = [ MyTask(3,2), MyTask(3,2) ]\n",
    "print (procrastination(assignments1))\n",
    "assignments2= [ MyTask(9,1), MyTask(9,2), MyTask(4,3) ]\n",
    "print (procrastination(assignments2))\n",
    "assignments3= [MyTask(14,10), MyTask(33,2), MyTask(5,3), MyTask(14,1), MyTask(10,2)]\n",
    "print (procrastination(assignments3))    "
   ]
  },
  {
   "cell_type": "markdown",
   "metadata": {},
   "source": [
    "#### Notes for Q7: <br> \n",
    "-- Compile assignments in a dictionary --<br>\n",
    "Organise input in the format d[deadline] = duration with repeat<br>\n",
    "input: [ MyTask(9,1), MyTask(9,2), MyTask(7,1)] <br>\n",
    "output: {9: [1,2], 7: [1]}<br>\n",
    "setdefault() is handy for this step.<br>\n",
    "<br>\n",
    "-- Prepare above dictionary for easy manupilation --<br>\n",
    "Process the dictionary into a list of tuples for manupilation in 3 steps<br>\n",
    "Step 1: Add all values of the same key and put them in a list<br>\n",
    "input: {9: [1,2], 7: [1]}<br>\n",
    "output: [3,1]<br>\n",
    "Step 2: Map dictionary keys and the sum of the key's values into a list of tuples <br>\n",
    "input: ([9,7],[3,1])<br>\n",
    "output: [(9,3),(7,1)]<br>\n",
    "This step 'extracts' the output of the MyTask class objects into something you can manupilate on.<br>\n",
    "Step 3: Sort the list from largest to smallest<br>\n",
    "input: ([7,1],[9,3])<br>\n",
    "output: ([9,3],[7,1])<br>\n",
    "This step makes my next step easier<br>\n",
    "\n",
    "-- Calculate potential start times --<br>\n",
    "Extracted from a PhD thesis on procrastination:<br>\n",
    "-A good procrastinator always manages to complete all work before their deadlines in single sitting at the lastest minute possible. <br>-\n",
    "Thus, a potential start time is obtained by taking a deadline and substracting the time neded to complete of all work due before that deadline. <br>\n",
    "In implementation, we can compute the potential start times dynamically by sorting by taking the latest (largest) deadline, subtract the sum of all duration values before it, and removing the tuple from the list.\n",
    "<br>\n",
    "<br>\n",
    "--Satisfy \"Procrastination\" and \"-1\" condition --<br>\n",
    "The rationale of this step is best explained with: <br>\n",
    "From 'The good procrastinator' by 'Work always in progress' <br>\n",
    "-To meet deadlines, however, a true procrastinator must find the lowest start time value. By virtue of starting at the earliest start time possible and completing all work in a single sitting, if this value doesn't satisfy all deadlines, no other start time can.<br>\n",
    "<br>\n",
    "\n"
   ]
  },
  {
   "cell_type": "code",
   "execution_count": null,
   "metadata": {
    "collapsed": true
   },
   "outputs": [],
   "source": []
  }
 ],
 "metadata": {
  "kernelspec": {
   "display_name": "Python 3",
   "language": "python",
   "name": "python3"
  },
  "language_info": {
   "codemirror_mode": {
    "name": "ipython",
    "version": 3
   },
   "file_extension": ".py",
   "mimetype": "text/x-python",
   "name": "python",
   "nbconvert_exporter": "python",
   "pygments_lexer": "ipython3",
   "version": "3.6.3"
  }
 },
 "nbformat": 4,
 "nbformat_minor": 2
}
