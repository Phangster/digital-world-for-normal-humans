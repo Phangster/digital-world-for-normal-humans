{
 "cells": [
  {
   "cell_type": "markdown",
   "metadata": {},
   "source": [
    "## 1. a list object can be initialized with a list() function\n",
    "\n",
    "### like tuples and dictionaries, no input means an empty list"
   ]
  },
  {
   "cell_type": "code",
   "execution_count": 18,
   "metadata": {},
   "outputs": [
    {
     "name": "stdout",
     "output_type": "stream",
     "text": [
      "[]\n"
     ]
    }
   ],
   "source": [
    "my_list = list()\n",
    "print(my_list)"
   ]
  },
  {
   "cell_type": "markdown",
   "metadata": {},
   "source": [
    "## 2. you may pass inputs to your list() function, and that will initialize your list \n",
    "\n",
    "### recall that objects store data, so lists store data! "
   ]
  },
  {
   "cell_type": "code",
   "execution_count": 8,
   "metadata": {},
   "outputs": [
    {
     "name": "stdout",
     "output_type": "stream",
     "text": [
      "[0, 1, 2, 3, 4, 5, 6, 7, 8, 9]\n",
      "[-20, -15, -10, -5, 0, 5, 10, 15, 20, 25, 30, 35, 40, 45, 50, 55, 60, 65, 70, 75, 80, 85]\n"
     ]
    }
   ],
   "source": [
    "my_list1 = list( range(10) )\n",
    "my_list2 = list(range(-20,90,5))\n",
    "print(my_list1)\n",
    "print(my_list2)"
   ]
  },
  {
   "cell_type": "markdown",
   "metadata": {},
   "source": [
    "## 3. list have many methods attached to them\n",
    "\n",
    "### you have used append(), but there are others ... "
   ]
  },
  {
   "cell_type": "code",
   "execution_count": 7,
   "metadata": {},
   "outputs": [
    {
     "name": "stdout",
     "output_type": "stream",
     "text": [
      "my_list1 has 1 elements of zero\n",
      "the value of 10 is at index 6 in my_list2\n"
     ]
    }
   ],
   "source": [
    "print( 'my_list1 has', my_list1.count(0), 'elements of zero')\n",
    "print( 'the value of 10 is at index', my_list2.index(10),'in my_list2')"
   ]
  },
  {
   "cell_type": "markdown",
   "metadata": {},
   "source": [
    "## 4. you may compare lists"
   ]
  },
  {
   "cell_type": "markdown",
   "metadata": {},
   "source": [
    "### you could say that one list is equal to another if the contents are identical\n",
    "### Question. What is the difference between the operators == and is ? "
   ]
  },
  {
   "cell_type": "code",
   "execution_count": 30,
   "metadata": {},
   "outputs": [
    {
     "name": "stdout",
     "output_type": "stream",
     "text": [
      "Equality operator: True\n",
      "is operator: False\n",
      "is operator: True\n"
     ]
    }
   ],
   "source": [
    "a1 = list(range(4))\n",
    "a2 = list(range(4))\n",
    "print( 'Equality operator:', a1 == a2)\n",
    "print('is operator:', a1 is a2)\n",
    "b = a2\n",
    "print('is operator:', b is a2)"
   ]
  },
  {
   "cell_type": "markdown",
   "metadata": {},
   "source": [
    "## Which operator checks if two variables point to the same object? \n",
    "\n",
    "### A.  == \n",
    "### B.  is "
   ]
  },
  {
   "cell_type": "markdown",
   "metadata": {},
   "source": [
    "### You could also check if list is less than another list"
   ]
  },
  {
   "cell_type": "code",
   "execution_count": 11,
   "metadata": {},
   "outputs": [
    {
     "name": "stdout",
     "output_type": "stream",
     "text": [
      "True\n"
     ]
    }
   ],
   "source": [
    "a1 = [10,20]\n",
    "a2 = [5,15]\n",
    "print( a2 < a1)"
   ]
  },
  {
   "cell_type": "markdown",
   "metadata": {},
   "source": [
    "### but what is to say these lists below are \"less than\" each other? \n",
    "### we would have to define what is the meaning of \"less than\""
   ]
  },
  {
   "cell_type": "code",
   "execution_count": 15,
   "metadata": {},
   "outputs": [
    {
     "name": "stdout",
     "output_type": "stream",
     "text": [
      "True\n",
      "False\n"
     ]
    }
   ],
   "source": [
    "aa = [10,20]\n",
    "bb = [5, 35]\n",
    "print( bb < aa )\n",
    "cc = [15, 15]\n",
    "print( cc < bb )"
   ]
  },
  {
   "cell_type": "markdown",
   "metadata": {},
   "source": [
    "### here is another extreme example "
   ]
  },
  {
   "cell_type": "code",
   "execution_count": 21,
   "metadata": {},
   "outputs": [
    {
     "name": "stdout",
     "output_type": "stream",
     "text": [
      "True\n"
     ]
    }
   ],
   "source": [
    "a = [6 , 9, 19, 29]\n",
    "b = [5 , 10, 20, 30]\n",
    "print( b < a)"
   ]
  },
  {
   "cell_type": "markdown",
   "metadata": {},
   "source": [
    "# What you have learnt before "
   ]
  },
  {
   "cell_type": "markdown",
   "metadata": {},
   "source": [
    "## In problem set 1, you defined your own custom data type to represent a coordinate\n",
    "\n",
    "### We recall that an \"object\" stores data. \n",
    "\n",
    "### At this stage, data has not been stored yet, this is just a blueprint"
   ]
  },
  {
   "cell_type": "code",
   "execution_count": 22,
   "metadata": {
    "collapsed": true
   },
   "outputs": [],
   "source": [
    "class Coordinate:\n",
    "    x = 1\n",
    "    y = 2"
   ]
  },
  {
   "cell_type": "markdown",
   "metadata": {},
   "source": [
    "## Then with the following code, we are making two instances of the Coordinate class.\n",
    "\n",
    "## This is called instantiation\n",
    "\n",
    "### Analogy: in the cell above, you have a blueprint for a house (class definition), now you have built two houses (instantiation), each house has their own contents (each object contains different data)"
   ]
  },
  {
   "cell_type": "code",
   "execution_count": 25,
   "metadata": {},
   "outputs": [
    {
     "name": "stdout",
     "output_type": "stream",
     "text": [
      "1 2\n",
      "10 20\n"
     ]
    }
   ],
   "source": [
    "p1 = Coordinate()\n",
    "p2 = Coordinate()\n",
    "p2.x = 10\n",
    "p2.y = 20\n",
    "print(p1.x, p1.y)\n",
    "print(p2.x, p2.y)"
   ]
  },
  {
   "cell_type": "markdown",
   "metadata": {},
   "source": [
    "## In Problem Set 2, you saw that you can write functions that take your custom objects as input\n",
    "\n",
    "### in the function, you can access the object's attributes"
   ]
  },
  {
   "cell_type": "code",
   "execution_count": 28,
   "metadata": {
    "collapsed": true
   },
   "outputs": [],
   "source": [
    "'''shorter lines make for clearer code''' \n",
    "''' have just one pair of brackets''' \n",
    "from math import sqrt \n",
    "def area_of_triangle(p1,p2,p3):\n",
    "    side1 = (p1.x - p2.x)**2 + (p1.y - p2.y)**2\n",
    "    side1 = sqrt(side1)\n",
    "    side2 = (p1.x - p3.x)**2 + (p1.y - p3.y)**2\n",
    "    side2 = sqrt(side2)\n",
    "    side3 = (p2.x - p3.x)**2 + (p2.y - p3.y)**2\n",
    "    side3 = sqrt(side3)\n",
    "    \n",
    "    s = (side1 + side2 + side3)/2\n",
    "    a = s - side1\n",
    "    b = s - side2\n",
    "    c = s - side3\n",
    "    area = sqrt(s*a*b*c)\n",
    "    return area "
   ]
  },
  {
   "cell_type": "markdown",
   "metadata": {},
   "source": [
    "## Let's apply the print function to the coordinate. Not very informative, huh? "
   ]
  },
  {
   "cell_type": "code",
   "execution_count": 29,
   "metadata": {},
   "outputs": [
    {
     "name": "stdout",
     "output_type": "stream",
     "text": [
      "<__main__.Coordinate object at 0x10d66d470>\n"
     ]
    }
   ],
   "source": [
    "print(p1)"
   ]
  },
  {
   "cell_type": "markdown",
   "metadata": {},
   "source": [
    "## So what haven't we done? \n",
    "\n",
    "## Methods. <BR>You saw the list object (and strings and dictionaries) have methods attached to them. These methods operate on the data. --> We haven't written anything like that. \n",
    "\n",
    "## Operators <BR> You also saw that we can say one list object is less than, equal to another list object. The behaviour was rather strange though. --> We will also have to write methods for this. \n",
    "\n",
    "## Print <BR> We will make the printing of an object more informative. \n",
    "\n"
   ]
  }
 ],
 "metadata": {
  "kernelspec": {
   "display_name": "Python 3",
   "language": "python",
   "name": "python3"
  },
  "language_info": {
   "codemirror_mode": {
    "name": "ipython",
    "version": 3
   },
   "file_extension": ".py",
   "mimetype": "text/x-python",
   "name": "python",
   "nbconvert_exporter": "python",
   "pygments_lexer": "ipython3",
   "version": "3.6.2"
  }
 },
 "nbformat": 4,
 "nbformat_minor": 2
}
